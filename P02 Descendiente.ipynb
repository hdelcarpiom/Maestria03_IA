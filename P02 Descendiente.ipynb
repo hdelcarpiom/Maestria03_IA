{
 "cells": [
  {
   "cell_type": "markdown",
   "metadata": {},
   "source": [
    "# REGRESION LINEAL - Pendiente Descendiente"
   ]
  },
  {
   "cell_type": "code",
   "execution_count": 1,
   "metadata": {},
   "outputs": [],
   "source": [
    "import numpy as np\n",
    "import matplotlib.pyplot as plt\n",
    "import sympy as sym\n",
    "from sklearn.linear_model import LinearRegression\n",
    "from sklearn import datasets"
   ]
  },
  {
   "cell_type": "code",
   "execution_count": 2,
   "metadata": {},
   "outputs": [],
   "source": [
    "# n_puntos determina la cantidad de datos con los que se trabajara\n",
    "n_puntos = 100\n",
    "# h_presicion determina los decimales qeu se mostrara\n",
    "h_presicion = 4\n",
    "np.set_printoptions(precision=h_presicion)\n",
    "xi, yi = datasets.make_regression(n_samples=n_puntos, n_features=1, noise=20)\n",
    "# Datos prueba\n",
    "#xi=[2,2.4,1.5,3.5,3.5,3.5,3.7,3.7,3.7,2.4,2.4,3.5,5.9,5.9,4.7,4.7,4.7,4.7]\n",
    "#yi=[196,221,136,255,244,230,232,255,267,212,225,239,359,359,338,354,338,354]\n",
    "xi = np.array(xi,dtype=float)\n",
    "yi = np.array(yi, dtype=float)\n",
    "xi= np.hstack(xi) # cambio de dimesion del array\n",
    "#print('xi =', xi)\n",
    "#print('yi =', yi)\n"
   ]
  },
  {
   "cell_type": "code",
   "execution_count": 3,
   "metadata": {},
   "outputs": [],
   "source": [
    "def MMC(xi,yi):\n",
    "    xi = np.array(xi,dtype=float) # conversion np array\n",
    "    yi = np.array(yi, dtype=float)\n",
    "    xi= np.hstack(xi) # cambio de dimesion del array\n",
    "    n = len(xi)\n",
    "    x_media = np.mean(xi)\n",
    "    y_media= np.mean(yi)\n",
    "    x_sumatoria = np.sum(xi)\n",
    "    y_sumatoria = np.sum(yi)\n",
    "    #xy_sumatoria = np.sum(xi*yi)\n",
    "    xy_sumatoria = np.dot(xi,yi)\n",
    "    x2_sumatoria = np.sum(xi*xi)\n",
    "    y2_sumatoria = np.sum(yi*yi)\n",
    "    w1=(n*xy_sumatoria-x_sumatoria*y_sumatoria)/(n*x2_sumatoria-x_sumatoria**2)\n",
    "    w0=(y_sumatoria-w1*x_sumatoria)/n\n",
    "    return w0,w1 # wo + w1x"
   ]
  },
  {
   "cell_type": "code",
   "execution_count": 4,
   "metadata": {},
   "outputs": [
    {
     "ename": "ValueError",
     "evalue": "cannot reshape array of size 100 into shape (3,newaxis)",
     "output_type": "error",
     "traceback": [
      "\u001b[1;31m---------------------------------------------------------------------------\u001b[0m",
      "\u001b[1;31mValueError\u001b[0m                                Traceback (most recent call last)",
      "\u001b[1;32mc:\\Users\\hdelc\\Documents\\GitHub\\Maestria03_IA\\P02 Descendiente.ipynb Celda 5\u001b[0m line \u001b[0;36m1\n\u001b[0;32m      <a href='vscode-notebook-cell:/c%3A/Users/hdelc/Documents/GitHub/Maestria03_IA/P02%20Descendiente.ipynb#W4sZmlsZQ%3D%3D?line=0'>1</a>\u001b[0m \u001b[39m# Variable independiente xi = xi\u001b[39;00m\n\u001b[0;32m      <a href='vscode-notebook-cell:/c%3A/Users/hdelc/Documents/GitHub/Maestria03_IA/P02%20Descendiente.ipynb#W4sZmlsZQ%3D%3D?line=1'>2</a>\u001b[0m \u001b[39m#x_ = np.array([[5], [6], [13]]) \u001b[39;00m\n\u001b[0;32m      <a href='vscode-notebook-cell:/c%3A/Users/hdelc/Documents/GitHub/Maestria03_IA/P02%20Descendiente.ipynb#W4sZmlsZQ%3D%3D?line=2'>3</a>\u001b[0m \n\u001b[1;32m   (...)\u001b[0m\n\u001b[0;32m      <a href='vscode-notebook-cell:/c%3A/Users/hdelc/Documents/GitHub/Maestria03_IA/P02%20Descendiente.ipynb#W4sZmlsZQ%3D%3D?line=5'>6</a>\u001b[0m \n\u001b[0;32m      <a href='vscode-notebook-cell:/c%3A/Users/hdelc/Documents/GitHub/Maestria03_IA/P02%20Descendiente.ipynb#W4sZmlsZQ%3D%3D?line=6'>7</a>\u001b[0m \u001b[39m# Modelo lineal creado con el método de mínimos cuadrados\u001b[39;00m\n\u001b[1;32m---> <a href='vscode-notebook-cell:/c%3A/Users/hdelc/Documents/GitHub/Maestria03_IA/P02%20Descendiente.ipynb#W4sZmlsZQ%3D%3D?line=11'>12</a>\u001b[0m modelo \u001b[39m=\u001b[39m LinearRegression()\u001b[39m.\u001b[39mfit(xi\u001b[39m.\u001b[39;49mreshape(\u001b[39m3\u001b[39;49m, \u001b[39m-\u001b[39;49m\u001b[39m1\u001b[39;49m),yi)\n\u001b[0;32m     <a href='vscode-notebook-cell:/c%3A/Users/hdelc/Documents/GitHub/Maestria03_IA/P02%20Descendiente.ipynb#W4sZmlsZQ%3D%3D?line=14'>15</a>\u001b[0m \u001b[39m# Visualización de datos y modelo\u001b[39;00m\n\u001b[0;32m     <a href='vscode-notebook-cell:/c%3A/Users/hdelc/Documents/GitHub/Maestria03_IA/P02%20Descendiente.ipynb#W4sZmlsZQ%3D%3D?line=15'>16</a>\u001b[0m \u001b[39mprint\u001b[39m(\u001b[39m\"\u001b[39m\u001b[39mIntersección con eje Y (b): \u001b[39m\u001b[39m%0.2f\u001b[39;00m\u001b[39m\"\u001b[39m \u001b[39m%\u001b[39m modelo\u001b[39m.\u001b[39mintercept_)\n",
      "\u001b[1;31mValueError\u001b[0m: cannot reshape array of size 100 into shape (3,newaxis)"
     ]
    }
   ],
   "source": [
    "# Variable independiente xi = xi\n",
    "#x_ = np.array([[5], [6], [13]]) \n",
    "\n",
    "# Variable objetivo salio yi\n",
    "#yi = np.array([6.85, 16.83, 26.84])\n",
    "\n",
    "# Modelo lineal creado con el método de mínimos cuadrados\n",
    "\n",
    "\n",
    "\n",
    "\n",
    "modelo = LinearRegression().fit(xi.reshape(3, -1),yi)\n",
    "\n",
    "\n",
    "# Visualización de datos y modelo\n",
    "print(\"Intersección con eje Y (b): %0.2f\" % modelo.intercept_)\n",
    "print(\"Pendiente (m): %0.2f\" % modelo.coef_[0])\n",
    "print(\"Suma de cuadrados de los residuos (RSS): %0.2f\" %\n",
    "      ((yi - modelo.predict(xi))**2).sum())\n",
    "\n",
    "plt.figure(figsize=(8, 6))\n",
    "\n",
    "plt.scatter(xi, yi, color=\"gold\", s=250,\n",
    "            marker=\"o\", label=\"Valor verdadero\")\n",
    "\n",
    "plt.scatter(xi, modelo.predict(xi),\n",
    "            color=\"blue\", s=250, marker=\"P\", label=\"Valor predicho\") \n",
    "\n",
    "plt.plot(xi, modelo.predict(xi), linewidth=4, color=\"deeppink\", label=\"Modelo lineal\") \n",
    "\n",
    "xi = xi.reshape(3)\n",
    "\n",
    "plt.ylabel(\"yi en miles de Pesos ($)\", size=16)\n",
    "plt.xlabel(\"Años de xi\", size=16)\n",
    "plt.legend(bbox_to_anchor=(1.3, 0.5))\n",
    "plt.grid()\n",
    "plt.box(False)\n",
    "plt.show()"
   ]
  }
 ],
 "metadata": {
  "kernelspec": {
   "display_name": "Python 3",
   "language": "python",
   "name": "python3"
  },
  "language_info": {
   "codemirror_mode": {
    "name": "ipython",
    "version": 3
   },
   "file_extension": ".py",
   "mimetype": "text/x-python",
   "name": "python",
   "nbconvert_exporter": "python",
   "pygments_lexer": "ipython3",
   "version": "3.11.2"
  }
 },
 "nbformat": 4,
 "nbformat_minor": 2
}
