{
 "cells": [
  {
   "cell_type": "code",
   "execution_count": 1,
   "metadata": {},
   "outputs": [],
   "source": [
    "import pandas as pd\n",
    "import numpy as np\n",
    "import random\n",
    "import matplotlib.pyplot as plt\n",
    "from sklearn import datasets"
   ]
  },
  {
   "cell_type": "markdown",
   "metadata": {},
   "source": [
    "#### Datos"
   ]
  },
  {
   "cell_type": "code",
   "execution_count": null,
   "metadata": {},
   "outputs": [],
   "source": [
    "# n_puntos determina la cantidad de datos con los que se trabajara\n",
    "n_puntos = 100\n",
    "# h_presicion determina los decimales qeu se mostrara\n",
    "h_presicion = 4\n",
    "np.set_printoptions(precision=h_presicion)\n",
    "xi, yi = datasets.make_regression(n_samples=n_puntos, n_features=1, noise=20)\n",
    "# Datos prueba\n",
    "#xi=[2,2.4,1.5,3.5,3.5,3.5,3.7,3.7,3.7,2.4,2.4,3.5,5.9,5.9,4.7,4.7,4.7,4.7]\n",
    "#yi=[196,221,136,255,244,230,232,255,267,212,225,239,359,359,338,354,338,354]\n",
    "xi = np.array(xi,dtype=float)\n",
    "yi = np.array(yi, dtype=float)\n",
    "xi= np.hstack(xi) # cambio de dimesion del array\n",
    "#print('xi =', xi)\n",
    "#print('yi =', yi)"
   ]
  }
 ],
 "metadata": {
  "kernelspec": {
   "display_name": "Python 3",
   "language": "python",
   "name": "python3"
  },
  "language_info": {
   "codemirror_mode": {
    "name": "ipython",
    "version": 3
   },
   "file_extension": ".py",
   "mimetype": "text/x-python",
   "name": "python",
   "nbconvert_exporter": "python",
   "pygments_lexer": "ipython3",
   "version": "3.11.2"
  }
 },
 "nbformat": 4,
 "nbformat_minor": 2
}
