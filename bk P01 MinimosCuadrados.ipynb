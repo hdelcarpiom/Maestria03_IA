{
 "cells": [
  {
   "cell_type": "markdown",
   "metadata": {},
   "source": [
    "# REGRESION LINEAL"
   ]
  },
  {
   "cell_type": "markdown",
   "metadata": {},
   "source": [
    "#### Libreria"
   ]
  },
  {
   "cell_type": "code",
   "execution_count": 17,
   "metadata": {},
   "outputs": [],
   "source": [
    "# Librerias \n",
    "import numpy as np\n",
    "import matplotlib.pyplot as plt\n",
    "import sympy as sym\n",
    "from sklearn import datasets"
   ]
  },
  {
   "cell_type": "markdown",
   "metadata": {},
   "source": [
    "#### Datos"
   ]
  },
  {
   "cell_type": "code",
   "execution_count": 18,
   "metadata": {},
   "outputs": [],
   "source": [
    "# n_puntos determina la cantidad de datos con los que se trabajara\n",
    "n_puntos = 100\n",
    "# h_presicion determina los decimales qeu se mostrara\n",
    "h_presicion = 4\n",
    "np.set_printoptions(precision=h_presicion)\n",
    "xi, yi = datasets.make_regression(n_samples=n_puntos, n_features=1, noise=20)\n",
    "# Datos prueba\n",
    "#xi=[2,2.4,1.5,3.5,3.5,3.5,3.7,3.7,3.7,2.4,2.4,3.5,5.9,5.9,4.7,4.7,4.7,4.7]\n",
    "#yi=[196,221,136,255,244,230,232,255,267,212,225,239,359,359,338,354,338,354]\n",
    "xi = np.array(xi,dtype=float)\n",
    "yi = np.array(yi, dtype=float)\n",
    "xi= np.hstack(xi) # cambio de dimesion del array\n",
    "#print('xi =', xi)\n",
    "#print('yi =', yi)\n"
   ]
  },
  {
   "cell_type": "markdown",
   "metadata": {},
   "source": [
    "# Método minimos cuadrados"
   ]
  },
  {
   "cell_type": "markdown",
   "metadata": {},
   "source": [
    "#### Archivo de salida"
   ]
  },
  {
   "cell_type": "code",
   "execution_count": 19,
   "metadata": {},
   "outputs": [
    {
     "data": {
      "text/plain": [
       "1218"
      ]
     },
     "execution_count": 19,
     "metadata": {},
     "output_type": "execute_result"
    }
   ],
   "source": [
    "# Cabecera de archivo\n",
    "archivo = open(\"Practica_01.txt\",'w')\n",
    "archivo.write('\\n ================ PRACTICA 01 - INTELIGENCIA ARTIFICIAL ================ \\n')\n",
    "archivo.write('PRESENTADO POR : Heberth del Carpio Maraza\\n')\n",
    "archivo.writelines('PRACTICA 01    : Metodo de Minimos cuadrados.\\n')\n",
    "\n",
    "archivo.write('\\n====  DATOS === \\n')\n",
    "archivo.write('Variable Independiente  X : \\n')\n",
    "archivo.write(str(xi) + '\\n')\n",
    "archivo.write('Variable Dependiente Y : \\n')\n",
    "archivo.write(str(yi) + '\\n')\n"
   ]
  },
  {
   "cell_type": "code",
   "execution_count": null,
   "metadata": {},
   "outputs": [],
   "source": []
  },
  {
   "cell_type": "markdown",
   "metadata": {},
   "source": [
    "#### Variables para calculo"
   ]
  },
  {
   "cell_type": "code",
   "execution_count": 20,
   "metadata": {},
   "outputs": [
    {
     "data": {
      "text/plain": [
       "29"
      ]
     },
     "execution_count": 20,
     "metadata": {},
     "output_type": "execute_result"
    }
   ],
   "source": [
    "n = len(xi)\n",
    "archivo.write('\\n === Variables === \\n')\n",
    "archivo.write('Longitud : ' + str(n) + '\\n')\n",
    "x_media = np.around(np.mean(xi),h_presicion)\n",
    "archivo.write('Media de x : ' + str(x_media) + '\\n')\n",
    "y_media= np.around(np.mean(yi),h_presicion)\n",
    "archivo.write('Media de y : ' + str(y_media) + '\\n')\n",
    "x_sumatoria = np.sum(xi)\n",
    "archivo.write('Sumatoria de x : ' + str(np.around(x_sumatoria,h_presicion)) + '\\n')\n",
    "y_sumatoria = np.sum(yi)\n",
    "archivo.write('Sumatoria de y : ' + str(np.around(y_sumatoria,h_presicion)) + '\\n')\n",
    "#xy_sumatoria = np.sum(xi*yi)\n",
    "xy_sumatoria = np.dot(xi,yi)\n",
    "archivo.write('Sumatoria de xy : ' + str(np.around(xy_sumatoria,h_presicion)) + '\\n')\n",
    "x2_sumatoria = np.sum(xi*xi)\n",
    "archivo.write('Sumatoria de x2 : ' + str(np.around(x2_sumatoria,h_presicion)) + '\\n')\n",
    "y2_sumatoria = np.sum(yi*yi)\n",
    "archivo.write('Sumatoria de y2 : ' + str(np.around(y2_sumatoria,h_presicion)) + '\\n')\n",
    "#print(x_sumatoria,y_sumatoria,xy_sumatoria,x2_sumatoria) # Verificador"
   ]
  },
  {
   "cell_type": "markdown",
   "metadata": {},
   "source": [
    "#### Calculo de funcion lineal"
   ]
  },
  {
   "cell_type": "markdown",
   "metadata": {},
   "source": [
    "$ w_1 = \\frac{n\\sum {x_iy_i}-\\sum x_i\\sum y_i}{n\\sum x_i^2-(\\sum x_i)^2} $  \n",
    "\n",
    "$ w_0 =\\frac{\\sum{y}-w_1\\sum{x}}{n}$\n",
    "\n",
    "$ f(x) = w_0 + w_1x $"
   ]
  },
  {
   "cell_type": "code",
   "execution_count": 21,
   "metadata": {},
   "outputs": [],
   "source": [
    "w1=np.around((n*xy_sumatoria-x_sumatoria*y_sumatoria)/(n*x2_sumatoria-x_sumatoria**2),h_presicion)\n",
    "w0=np.around((y_sumatoria-w1*x_sumatoria)/n,h_presicion)\n",
    "x= sym.Symbol('X')\n",
    "f = w0 + w1*x\n",
    "fx = sym.lambdify(x,f)\n",
    "fi = fx(xi)"
   ]
  },
  {
   "cell_type": "code",
   "execution_count": 22,
   "metadata": {},
   "outputs": [
    {
     "name": "stdout",
     "output_type": "stream",
     "text": [
      "f= 69.2591*X + 1.0941\n"
     ]
    },
    {
     "data": {
      "text/plain": [
       "35"
      ]
     },
     "execution_count": 22,
     "metadata": {},
     "output_type": "execute_result"
    }
   ],
   "source": [
    "print ('f=',f)\n",
    "archivo.write('\\n===   Ecuacion Regresion Lineal   ===\\n')\n",
    "archivo.write('Ec. regresion :  '  + str(f))"
   ]
  },
  {
   "cell_type": "code",
   "execution_count": 23,
   "metadata": {},
   "outputs": [
    {
     "name": "stdout",
     "output_type": "stream",
     "text": [
      "0.9293615205545981\n",
      "92.94\n"
     ]
    }
   ],
   "source": [
    "# coeficiente de correlacion\n",
    "numerador = (n*xy_sumatoria - x_sumatoria*y_sumatoria)\n",
    "raiz1 = np.sqrt(n*x2_sumatoria-x_sumatoria**2)\n",
    "raiz2 = np.sqrt(n*y2_sumatoria-y_sumatoria**2)\n",
    "r= numerador/(raiz1*raiz2)\n",
    "#coeficiente de determinacion\n",
    "r2 = r**2\n",
    "archivo.write('\\n Coef de Correlacion (R) : ' + str(np.around(r,h_presicion)))\n",
    "r2_porcentaje = np.around(r2*100,2)\n",
    "archivo.write('\\n Coef de Determinacion (R2) :' + str(np.around(r2,h_presicion)))\n",
    "archivo.write('\\n %Coef de Determinacion (%R2) :'  + str(r2_porcentaje))\n",
    "print(r2)\n",
    "print(r2_porcentaje)"
   ]
  },
  {
   "cell_type": "code",
   "execution_count": 24,
   "metadata": {},
   "outputs": [
    {
     "data": {
      "image/png": "[encoded data removed]",
      "text/plain": [
       "<Figure size 640x480 with 1 Axes>"
      ]
     },
     "metadata": {},
     "output_type": "display_data"
    }
   ],
   "source": [
    "fig = plt.figure()\n",
    "ax = fig.add_subplot(1, 1, 1)\n",
    "plt.scatter(xi, yi,alpha=0.3)\n",
    "ax.spines['left'].set_position('zero')\n",
    "ax.spines['left'].set_color('silver')\n",
    "ax.spines['bottom'].set_position('zero')\n",
    "ax.spines['bottom'].set_color('silver')\n",
    "ax.spines['right'].set_color('none')\n",
    "ax.spines['top'].set_color('none')\n",
    "ax.xaxis.set_ticks_position('bottom')\n",
    "ax.yaxis.set_ticks_position('left')\n",
    "ax.tick_params(axis='y', colors='silver')\n",
    "ax.tick_params(axis='x', colors='silver')\n",
    "\n",
    "plt.plot(xi,yi,'o',label='(xi,yi)')\n",
    "#plt.stem(xi,yi,bottom=y_media, linefmt = ':')\n",
    "plt.plot(xi,fi,color='orange', label=f)\n",
    "#plt.xlabel('xi')\n",
    "#plt.ylabel('yi')\n",
    "plt.legend()\n",
    "plt.show()\n"
   ]
  }
 ],
 "metadata": {
  "kernelspec": {
   "display_name": "Python 3",
   "language": "python",
   "name": "python3"
  },
  "language_info": {
   "codemirror_mode": {
    "name": "ipython",
    "version": 3
   },
   "file_extension": ".py",
   "mimetype": "text/x-python",
   "name": "python",
   "nbconvert_exporter": "python",
   "pygments_lexer": "ipython3",
   "version": "3.11.2"
  }
 },
 "nbformat": 4,
 "nbformat_minor": 2
}
