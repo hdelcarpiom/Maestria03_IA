{
 "cells": [
  {
   "cell_type": "markdown",
   "metadata": {},
   "source": [
    "# REGRESION LINEAL"
   ]
  },
  {
   "cell_type": "markdown",
   "metadata": {},
   "source": [
    "#### Libreria"
   ]
  },
  {
   "cell_type": "code",
   "execution_count": 31,
   "metadata": {},
   "outputs": [],
   "source": [
    "# Librerias \n",
    "import numpy as np\n",
    "import matplotlib.pyplot as plt\n",
    "import sympy as sym\n",
    "from sklearn import datasets"
   ]
  },
  {
   "cell_type": "markdown",
   "metadata": {},
   "source": [
    "#### Datos"
   ]
  },
  {
   "cell_type": "code",
   "execution_count": 32,
   "metadata": {},
   "outputs": [],
   "source": [
    "# n_puntos determina la cantidad de datos con los que se trabajara\n",
    "n_puntos = 100\n",
    "xi, yi = datasets.make_regression(n_samples=n_puntos, n_features=1, noise=20)\n",
    "# Datos prueba\n",
    "#xi=[2,2.4,1.5,3.5,3.5,3.5,3.7,3.7,3.7,2.4,2.4,3.5,5.9,5.9,4.7,4.7,4.7,4.7]\n",
    "#yi=[196,221,136,255,244,230,232,255,267,212,225,239,359,359,338,354,338,354]\n",
    "xi = np.array(xi,dtype=float)\n",
    "yi = np.array(yi, dtype=float)\n",
    "xi= np.hstack(xi) # cambio de dimesion del array\n",
    "#print('xi =', xi)\n",
    "#print('yi =', yi)\n"
   ]
  },
  {
   "cell_type": "markdown",
   "metadata": {},
   "source": [
    "# Método minimos cuadrados"
   ]
  },
  {
   "cell_type": "markdown",
   "metadata": {},
   "source": [
    "#### Archivo de salida"
   ]
  },
  {
   "cell_type": "code",
   "execution_count": 33,
   "metadata": {},
   "outputs": [
    {
     "data": {
      "text/plain": [
       "1419"
      ]
     },
     "execution_count": 33,
     "metadata": {},
     "output_type": "execute_result"
    }
   ],
   "source": [
    "# Cabecera de archivo\n",
    "archivo = open(\"Practica_01.txt\",'w')\n",
    "archivo.write('\\n ==== PRACTICA 01 - INTELIGENCIA ARTIFICIAL === \\n')\n",
    "archivo.write('PRESENTADO POR : Heberth del Carpio Maraza\\n')\n",
    "archivo.writelines('PRACTICA 01    : Metodo de Minimos cuadrados.\\n')\n",
    "\n",
    "archivo.write('\\n====  DATOS === \\n')\n",
    "archivo.write('Variable Independiente  X : \\n')\n",
    "archivo.write(str(xi) + '\\n')\n",
    "archivo.write('Variable Dependiente Y : \\n')\n",
    "archivo.write(str(yi) + '\\n')\n"
   ]
  },
  {
   "cell_type": "code",
   "execution_count": null,
   "metadata": {},
   "outputs": [],
   "source": []
  },
  {
   "cell_type": "markdown",
   "metadata": {},
   "source": [
    "#### Variables para calculo"
   ]
  },
  {
   "cell_type": "code",
   "execution_count": 34,
   "metadata": {},
   "outputs": [
    {
     "data": {
      "text/plain": [
       "36"
      ]
     },
     "execution_count": 34,
     "metadata": {},
     "output_type": "execute_result"
    }
   ],
   "source": [
    "n = len(xi)\n",
    "archivo.write('\\n === Variables === \\n')\n",
    "archivo.write('Longitud : ' + str(n) + '\\n')\n",
    "x_media = np.mean(xi)\n",
    "archivo.write('Media de x : ' + str(x_media) + '\\n')\n",
    "y_media= np.mean(yi)\n",
    "archivo.write('Media de y : ' + str(y_media) + '\\n')\n",
    "x_sumatoria = np.sum(xi)\n",
    "archivo.write('Sumatoria de x : ' + str(x_sumatoria) + '\\n')\n",
    "y_sumatoria = np.sum(yi)\n",
    "archivo.write('Sumatoria de y : ' + str(y_sumatoria) + '\\n')\n",
    "#xy_sumatoria = np.sum(xi*yi)\n",
    "xy_sumatoria = np.dot(xi,yi)\n",
    "archivo.write('Sumatoria de xy : ' + str(xy_sumatoria) + '\\n')\n",
    "x2_sumatoria = np.sum(xi*xi)\n",
    "archivo.write('Sumatoria de x2 : ' + str(x2_sumatoria) + '\\n')\n",
    "y2_sumatoria = np.sum(yi*yi)\n",
    "archivo.write('Sumatoria de y2 : ' + str(y2_sumatoria) + '\\n')\n",
    "#print(x_sumatoria,y_sumatoria,xy_sumatoria,x2_sumatoria) # Verificador"
   ]
  },
  {
   "cell_type": "markdown",
   "metadata": {},
   "source": [
    "#### Calculo de funcion lineal"
   ]
  },
  {
   "cell_type": "markdown",
   "metadata": {},
   "source": [
    "$ w_1 = \\frac{n\\sum {x_iy_i}-\\sum x_i\\sum y_i}{n\\sum x_i^2-(\\sum x_i)^2} $  \n",
    "\n",
    "$ w_0 =\\frac{\\sum{y}-w_1\\bar{x}}{n}$\n",
    "\n",
    "$ f(x) = w_0 + w_1x $"
   ]
  },
  {
   "cell_type": "code",
   "execution_count": 35,
   "metadata": {},
   "outputs": [
    {
     "data": {
      "text/plain": [
       "1416"
      ]
     },
     "execution_count": 35,
     "metadata": {},
     "output_type": "execute_result"
    }
   ],
   "source": [
    "w1=(n*xy_sumatoria-x_sumatoria*y_sumatoria)/(n*x2_sumatoria-x_sumatoria**2)\n",
    "#w0= y_media - w1*x_media\n",
    "w0=(y_sumatoria-w1*x_sumatoria)/n\n",
    "x= sym.Symbol('X')\n",
    "f = w0 + w1*x\n",
    "fx = sym.lambdify(x,f)\n",
    "fi = fx(xi)\n",
    "archivo.write(str(fi))"
   ]
  },
  {
   "cell_type": "code",
   "execution_count": 36,
   "metadata": {},
   "outputs": [
    {
     "name": "stdout",
     "output_type": "stream",
     "text": [
      "y media =  -10.436606961170845\n",
      "f= 69.0949200436159*X - 0.714274584079924\n"
     ]
    }
   ],
   "source": [
    "print ('y media = ',y_media)\n",
    "print ('f=',f)"
   ]
  },
  {
   "cell_type": "code",
   "execution_count": 37,
   "metadata": {},
   "outputs": [
    {
     "data": {
      "image/png": "[encoded data removed]",
      "text/plain": [
       "<Figure size 640x480 with 1 Axes>"
      ]
     },
     "metadata": {},
     "output_type": "display_data"
    }
   ],
   "source": [
    "plt.plot(xi,yi,'o',label='(xi,yi)')\n",
    "#plt.stem(xi,yi,bottom=y_media, linefmt = ':')\n",
    "plt.plot(xi,fi,color='orange', label=f)\n",
    "plt.xlabel('xi')\n",
    "plt.ylabel('yi')\n",
    "plt.legend()\n",
    "plt.show()\n"
   ]
  },
  {
   "cell_type": "code",
   "execution_count": 38,
   "metadata": {},
   "outputs": [
    {
     "name": "stdout",
     "output_type": "stream",
     "text": [
      "0.9311176334212895\n",
      "93.11\n"
     ]
    }
   ],
   "source": [
    "# coeficiente de correlacion\n",
    "numerador = (n*xy_sumatoria - x_sumatoria*y_sumatoria)\n",
    "raiz1 = np.sqrt(n*x2_sumatoria-x_sumatoria**2)\n",
    "raiz2 = np.sqrt(n*y2_sumatoria-y_sumatoria**2)\n",
    "r= numerador/(raiz1*raiz2)\n",
    "#coeficiente de determinacion\n",
    "r2 = r**2\n",
    "r2_porcentaje = np.around(r2*100,2)\n",
    "print(r2)\n",
    "print(r2_porcentaje)"
   ]
  },
  {
   "cell_type": "code",
   "execution_count": 39,
   "metadata": {},
   "outputs": [
    {
     "data": {
      "text/plain": [
       "[<matplotlib.lines.Line2D at 0x112848a2510>]"
      ]
     },
     "execution_count": 39,
     "metadata": {},
     "output_type": "execute_result"
    },
    {
     "data": {
      "image/png": "[encoded data removed]",
      "text/plain": [
       "<Figure size 640x480 with 1 Axes>"
      ]
     },
     "metadata": {},
     "output_type": "display_data"
    }
   ],
   "source": [
    "fig = plt.figure()\n",
    "ax = fig.add_subplot(1, 1, 1)\n",
    "ax.spines['left'].set_position('zero')\n",
    "ax.spines['left'].set_color('silver')\n",
    "ax.spines['bottom'].set_position('zero')\n",
    "ax.spines['bottom'].set_color('silver')\n",
    "ax.spines['right'].set_color('none')\n",
    "ax.spines['top'].set_color('none')\n",
    "ax.xaxis.set_ticks_position('bottom')\n",
    "ax.yaxis.set_ticks_position('left')\n",
    "ax.tick_params(axis='y', colors='silver')\n",
    "ax.tick_params(axis='x', colors='silver')\n",
    "for i in range(0,n,1):\n",
    "    y0=np.min([yi[i],fi[i]])\n",
    "    y1=np.max([yi[i],fi[i]])\n",
    "    plt.vlines(xi[i],y0,y1,color='silver', linestyle='dotted')\n",
    "plt.plot(xi,yi,'o')\n",
    "plt.scatter(xi, yi,alpha=0.3)\n",
    "plt.plot(xi,fi,color='red')"
   ]
  }
 ],
 "metadata": {
  "kernelspec": {
   "display_name": "Python 3",
   "language": "python",
   "name": "python3"
  },
  "language_info": {
   "codemirror_mode": {
    "name": "ipython",
    "version": 3
   },
   "file_extension": ".py",
   "mimetype": "text/x-python",
   "name": "python",
   "nbconvert_exporter": "python",
   "pygments_lexer": "ipython3",
   "version": "3.11.2"
  }
 },
 "nbformat": 4,
 "nbformat_minor": 2
}
